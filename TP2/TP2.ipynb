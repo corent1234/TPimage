{
  "cells": [
    {
      "cell_type": "markdown",
      "metadata": {
        "id": "9045n74JkTa5"
      },
      "source": [
        "## TP2 M1 Images : Clonage par édition de Poisson\n",
        "\n",
        "**ENS Paris-Saclay**\n",
        "\n",
        "**Département de Mathématiques**\n",
        "\n",
        "\n",
        "\n",
        "---\n",
        "\n",
        "\n",
        "**NOMS et Prénoms:**      Corentin Cornou, Marianne Déglise\n",
        "\n",
        "---\n"
      ]
    },
    {
      "cell_type": "markdown",
      "metadata": {
        "id": "QnWiZrb8kTbA"
      },
      "source": [
        "## Consignes pour le rapport de TP"
      ]
    },
    {
      "cell_type": "markdown",
      "metadata": {
        "id": "cte2btRVkTbB"
      },
      "source": [
        "Ce TP comporte diverses questions. Les réponses, les résultats des expériences\n",
        "(images, figures), ainsi que le code devront être contenus dans ce\n",
        "notebook.\n",
        "\n",
        "Il est possible de travailler en groupes de deux élèves (pas plus) ou individuellement.\n",
        "\n",
        "Vous êtes également invité à rajouter toutes remarques ou commentaires sur les\n",
        "résultats de votre code là où vous le jugerez nécessaire. Vous pouvez créer\n",
        "une nouvelle cellule en cliquant sur l'icone **+ Code**. **Pensez à sauvegarder\n",
        "régulièrement votre travail** (Fichier -> Enregistrer ou CTRL+S).\n",
        "\n",
        "Le TP doit être soumis sur eCampus dans un délai de **deux semaines au plus tard**. \\\n",
        " <font size=\"4\"> <b>Une pénalité de <font color=red>deux points par\n",
        " jour</font> de retard sera appliquée </b>à partir de ce moment-là</font>. \\\n",
        "Le fichier joint doit être un notebook exécutable au format *ipynb* (dans\n",
        "*Google Colab*, Fichiers -> Télécharger le fichier ipynb), **intitulé\n",
        "nom_prenom_TP2.ipynb. Veuillez vous en assurer.**\n",
        "\n",
        "Avant d'envoyer votre TP, nous vous recommandons de cliquer sur\n",
        "Exécution -> Tout exécuter.  Vérifier ensuite que l'ensemble du notebook ne\n",
        "comporte pas d'erreurs.\n",
        "\n",
        "<font color=red><b>Important</b></font> : si le travail est effectué en groupe, **indiquer les noms des deux membres du groupe**. En plus, il ne faut soumettre qu'un seul foi le notebook dans eCampus pour le group, <b>jamais individuellement deux fois le même</b>."
      ]
    },
    {
      "cell_type": "markdown",
      "metadata": {
        "id": "bXI4KpRMkTbE"
      },
      "source": [
        "# Mise en route"
      ]
    },
    {
      "cell_type": "markdown",
      "metadata": {
        "id": "MsqFN5SWYVQY"
      },
      "source": [
        "Ce TP porte sur l’équation de Poisson et ses applications au traitement d’image. Dans ce TP, nous étudirons l'article [Poisson Image Editing](http://www.ipol.im/pub/art/2016/163/)."
      ]
    },
    {
      "cell_type": "markdown",
      "metadata": {
        "id": "gmgxZ7u4kTbG"
      },
      "source": [
        "## Modules Python et fichiers nécessaires"
      ]
    },
    {
      "cell_type": "markdown",
      "metadata": {
        "id": "yOev-yJOkTbI"
      },
      "source": [
        "On commence par charger les modules python nécessaires pour l'exécution du TP.\n"
      ]
    },
    {
      "cell_type": "code",
      "execution_count": null,
      "metadata": {
        "id": "FQ0MafhgkTbK"
      },
      "outputs": [],
      "source": [
        "import numpy as np\n",
        "import matplotlib.pyplot as plt\n",
        "import skimage\n",
        "import skimage.io\n",
        "import scipy.sparse as sp\n",
        "\n",
        "plt.show()\n",
        "plt.ion()\n",
        "\n",
        "%matplotlib inline"
      ]
    },
    {
      "cell_type": "code",
      "execution_count": null,
      "metadata": {},
      "outputs": [],
      "source": [
        "OperatorMatrix = np.ndarray[np.ndarray[float]]\n",
        "Image = np.ndarray[np.ndarray[float]]\n",
        "VectorField = np.ndarray[np.ndarray[float]]"
      ]
    },
    {
      "cell_type": "code",
      "execution_count": null,
      "metadata": {
        "id": "prZwsGBkVOJl"
      },
      "outputs": [],
      "source": [
        "def plot_img(x:Image)-> None:\n",
        "    \"\"\"\n",
        "    Affiche une image passée en entrée.\n",
        "    \"\"\"\n",
        "    assert np.all(x >= 0) and np.all(x <= 1), \"Les valeurs de l'image doivent être entre 0 et 1!\"\n",
        "\n",
        "    plt.imshow(x, vmin=0, vmax=1, interpolation=\"nearest\", cmap='gray')\n",
        "    plt.axis('off')\n",
        "    plt.show()"
      ]
    },
    {
      "cell_type": "markdown",
      "metadata": {
        "id": "9Q0uolaIcd67"
      },
      "source": [
        "# Introduction"
      ]
    },
    {
      "cell_type": "markdown",
      "metadata": {
        "id": "r8pYmRUPcd6_"
      },
      "source": [
        "Dans ce TP, on étudie le cas \"*seamless cloning*\" de l'article [Poisson Image Editing](http://www.ipol.im/pub/art/2016/163/). L'idée est de copier une partie d'une image source `source` dans une image cible `dest`.\n",
        "Le script suivant charge l'image cible `dest`, l'image source `source` et le masque `mask`. `dest` est l'image originale sur laquelle on va copier-coller une partie de l'image `source`. Le masque `mask` est une image binaire (les intensités sont 0 ou 1), ne valant 1 qu'à l'endroit où on veut faire le copié collé."
      ]
    },
    {
      "cell_type": "markdown",
      "metadata": {
        "id": "jVe1gZVucd7B"
      },
      "source": [
        "🔴 Visualiser les images `source`, `dest` et le masque `mask` à l'aide la fonction `plot_img`."
      ]
    },
    {
      "cell_type": "code",
      "execution_count": null,
      "metadata": {
        "id": "UbaP5srPVrlv"
      },
      "outputs": [],
      "source": [
        "import urllib, os\n",
        "\n",
        "def load_img(path  :str)-> Image:\n",
        "    if path.startswith(\"http://\"):\n",
        "        name = path.split('/')[-1]\n",
        "\n",
        "        if not os.path.exists(name):\n",
        "            urllib.request.urlretrieve(path, name)\n",
        "\n",
        "        return plt.imread(name)\n",
        "\n",
        "    return plt.imread(path)\n",
        "\n",
        "\n",
        "source = load_img(\"http://gabarro.org/img/poisson_source_gray.png\")\n",
        "dest = load_img(\"http://gabarro.org/img/poisson_dest_gray.png\")\n",
        "mask = load_img(\"http://gabarro.org/img/poisson_trimap.png\")"
      ]
    },
    {
      "cell_type": "markdown",
      "metadata": {
        "id": "0b-nTM5ccd7G"
      },
      "source": [
        "<br> <div> <center> <img src=\"https://gfacciol.github.io/afh/TP_M1_Images/TP2/copie-colle.jpg\" width=\"500\"/> </center> </div> <br>\n",
        "\n",
        "🔴 **Question 1 :** Utiliser la fonction `naive_copypaste` définie ci-dessous pour effectuer un simple copié-collé de l'image source vers l'image cible, correspondant à la zone contenue dans le masque, comme illustré à la figure ci-dessus. Commenter le résultat. Est-il conforme à vos attentes ? Vous convient-il ?"
      ]
    },
    {
      "cell_type": "code",
      "execution_count": null,
      "metadata": {
        "colab": {
          "base_uri": "https://localhost:8080/",
          "height": 406
        },
        "id": "qssQNJqGcd7H",
        "outputId": "fa127da4-c2dd-4e55-c887-596766326a5a"
      },
      "outputs": [],
      "source": [
        "def naive_copypaste(source : Image, dest :Image, mask : \"np.ndarray[np.ndarray[bool]]\") -> Image:\n",
        "    \"\"\"\n",
        "    Effectue un copier-coller naïf en copiant la source dans la destination selon le masque.\n",
        "    Args:\n",
        "    - source (np.array): Image source\n",
        "    - dest (np.array): Image destination\n",
        "    - mask (np.array): Tableau contenant des booléens contenant le masque de copier-coller\n",
        "    \"\"\"\n",
        "    return mask * source + (1. - mask) * dest\n",
        "\n",
        "copie_naive = naive_copypaste(source, dest, np.round(mask))\n",
        "plot_img(copie_naive)"
      ]
    },
    {
      "cell_type": "markdown",
      "metadata": {
        "id": "NAXdumnAZcT6"
      },
      "source": [
        "🔥 **Réponse :** Le résultat n'est pas encore très satisfaisant car on voit la démarcation de la zone copiée. On veut applatir le fond pour avoir une transition invisible."
      ]
    },
    {
      "cell_type": "markdown",
      "metadata": {
        "id": "8rl2pwJMcd7K"
      },
      "source": [
        "*🔴* **Question 2 :** Pour quel type d'images obtiendrait-t-on de très bon résultats avec un simple copié-collé ? Inversement, quel cas vous semble les plus défavorables ?"
      ]
    },
    {
      "cell_type": "markdown",
      "metadata": {
        "id": "RZBuh1Xwcd7O"
      },
      "source": [
        "🔥 **Réponse :** Une image avec un fond parfaitement uniforme, ou un png archeraient très bien. En revanche une photo avec des variations de couleurs fréquentes (un fond non uniforme, comme un coucher de soleil par exemple) archera beaucoup moins."
      ]
    },
    {
      "cell_type": "markdown",
      "metadata": {
        "id": "sHuAk5pHkTbP"
      },
      "source": [
        "# Édition de Poisson"
      ]
    },
    {
      "cell_type": "markdown",
      "metadata": {
        "id": "H9dQJmCxcd7R"
      },
      "source": [
        "L'**édition de Poisson** consiste à faire du traitement d'image, non pas à partir des valeurs d'intensités des pixels, mais plutôt avec la valeurs de gradients d'intensité.\n",
        "Plusieurs manipulations peuvent être effectuées sur les gradients. Par exemple, on peut remplacer certains morceaux de gradients d'une image A par ceux d'une image B. On peut aussi annuler tout ou partie des gradients, *etc*. Après modification des gradients, on peut récupérer une image en résolvant l'équation de Poisson.\n",
        "\n",
        "On peut distinguer deux façons de résoudre (ou de formuler) l'équation de Poisson :\n",
        "- résolution *globale*\n",
        "- résolution *locale*\n",
        "\n",
        "On résout l'équation de Poisson *globale* lorsque l'on a édité (modifié) le domaine de l'image dans son intégralité. Comme vous l'avez vu en cours, une façon très simple et pourtant très efficace consiste à utiliser la TFD (dans le domaine des fréquences).\n",
        "A l'inverse, lorsqu'on a modifié une partie de l'image seulement, on résout l'équation de Poisson *locale*, en écrivant explicitement le système linéaire (comme pour la méthode des différences finies vue dans le cours d'EDP en L3).\n",
        "\n",
        "Dans ce TP, nous allons étudier ces deux cas de figure, dans le cas du \"*seamless cloning*\" afin d'améliorer les résultats que vous avez obtenus dans l'introduction."
      ]
    },
    {
      "cell_type": "markdown",
      "metadata": {
        "id": "3uv3fE4jcd7S"
      },
      "source": [
        "## Résolution *globale*"
      ]
    },
    {
      "cell_type": "markdown",
      "metadata": {
        "id": "CgPIhypFcd7U"
      },
      "source": [
        "Comme annoncé précédement, ce premier cas de figure se résout très simplement lorsqu'on traduit le problème dans le domaine fréquentiel (\"en *Fourier*\").\n",
        "\n",
        "La méthode a été proposée et vue en cours. L'objectif du préambule suivant est de la résumer en quelques phrases. Répondez à ce préambule pour vous remémorer le cours."
      ]
    },
    {
      "cell_type": "markdown",
      "metadata": {
        "id": "vAKYfYX9kTcl"
      },
      "source": [
        "🔴 **Question 3** : Cette astuce nécessite que le domaine d'édition soit un rectangle. Pourquoi ? Est-ce un inconvéniant ? (répondre de manière très succincte)"
      ]
    },
    {
      "cell_type": "markdown",
      "metadata": {
        "id": "_IUmGVZ6cd7X"
      },
      "source": [
        "🔥 **Réponse :** Les bords de l'image doivent correspondre aux coordonnées 2D. Ce n'est pas un problème, on peut augmenter le domaine pour le rendre rectangulaire."
      ]
    },
    {
      "cell_type": "markdown",
      "metadata": {
        "id": "Qwj4T5Mdcd7Z"
      },
      "source": [
        "L'idée est de résoudre l'équation de Poisson en passant dans le domaine fréquentiel, discret (avec la librairie `np.fft`). L'image est alors vue comme un polynôme trigonométrique à deux variables\n",
        "$$ u(x,y)=\\sum_{m=-N/2}^{N/2}\\sum_{n=-N/2}^{N/2}u_{m,n} ~ e^{2i\\pi(mx+ny)} $$"
      ]
    },
    {
      "cell_type": "markdown",
      "metadata": {
        "id": "EZU3oh_zxo6L"
      },
      "source": [
        "🔴 **Question 4** Justifier l'existence du Laplacien $\\Delta u$ et écrire son expression en $(x,y)$."
      ]
    },
    {
      "cell_type": "markdown",
      "metadata": {
        "id": "Ee9nPH3yWG4e"
      },
      "source": [
        "🔥 **Réponse :** La fonction est $C^{\\infty}$ donc le laplacien existe. On a : $\\Delta u = \\sum_{m=-N/2}^{N/2}\\sum_{n=-N/2}^{N/2} -((2 \\pi m)^2 + (2 \\pi n)^2) ~ u_{m,n} ~ e^{2i\\pi(mx+ny)} $"
      ]
    },
    {
      "cell_type": "markdown",
      "metadata": {
        "id": "YsbtVkACcd7c"
      },
      "source": [
        "🔴 **Question 5** À partir de l'expression de $u(x, y)$ et $\\Delta u(x, y)$, déduire comment on peut résoudre l'équation de Poisson globale.\n",
        "\n",
        "⚠️ Vous aurez soin d'expliquer le cas $(m, n) = (0, 0)$ !"
      ]
    },
    {
      "cell_type": "markdown",
      "metadata": {
        "id": "3nnLLzZ1cd7c"
      },
      "source": [
        "🔥 **Réponse :** On peut résoudre l'équation de Poisson par une identification des coefficients de Fourier : Si le champ de vecteurs est $\\mathbf{V} = (V^x, V^y)$ (en fourier), on a pour tout couple $(m,n)$: $$((2 \\pi m)^2 + (2 \\pi n)^2) ~ \\widehat{u_{m,n}} = 2i \\pi m \\widehat{V^x_{m,n}} + 2i \\pi n \\widehat{V^y_{m,n}}$$\n",
        "Donc en particulier pour tous $(m,n)\\neq (0,0)$, \n",
        "$$\\boxed{\\widehat{u_{m,n}} = \\frac{2i \\pi m \\widehat{V^x_{m,n}} + 2i \\pi n \\widehat{V^y_{m,n}}}{((2 \\pi m)^2 + (2 \\pi n)^2)}}$$\n",
        "On a un degré de liberté supplémentaire car le problème de minimisation est invariant lorsqu'on rajoute une constante. On peut donc choisir $\\widehat{u_{0,0}}$ pour obtenir la moyenne de l'image que l'on souhaite avoir."
      ]
    },
    {
      "cell_type": "markdown",
      "metadata": {
        "id": "QQMunY1Ncd7e"
      },
      "source": [
        "Vous allez maintenant implémenter la résolution globale de l'équation de Poisson. Vous n'utiliserez ici que des techniques d'analyse de Fourier."
      ]
    },
    {
      "cell_type": "markdown",
      "metadata": {
        "id": "EluwD1Zlcd7e"
      },
      "source": [
        "🔴 **Question 6 :** En reprenant l'expression de $u(x, y)$, écrire une fonction `gradient` qui calcule $$ \\left( \\frac{\\partial u}{\\partial x}, \\frac{\\partial u}{\\partial y} \\right)$$\n",
        "à l'aide de la Transformée de Fourier."
      ]
    },
    {
      "cell_type": "code",
      "execution_count": null,
      "metadata": {
        "id": "0T0zr_i8YVRG"
      },
      "outputs": [],
      "source": [
        "def gradient(u : Image)-> VectorField:\n",
        "    \"\"\"\n",
        "    Calcule le gradient de l'image `u` à l'aide de la Transformée de Fourier.\n",
        "    Args:\n",
        "    - u (np.array): Un tableau numpy contenant l'image.\n",
        "    Returns:\n",
        "    - grad_x (np.array): Un tableau numpy de la même dimension que `u` qui contient le gradient selon x.\n",
        "    - grad_y (np.array): Un tableau numpy de la même dimension que `u` qui contient le gradient selon y.\n",
        "    \"\"\"\n",
        "\n",
        "    tf = np.fft.fft2(u)\n",
        "\n",
        "    freq_x = np.fft.fftfreq(tf.shape[0])\n",
        "    freq_y = np.fft.fftfreq(tf.shape[1])\n",
        "\n",
        "    freq_x, freq_y = np.meshgrid(freq_x, freq_y)\n",
        "\n",
        "    # VOTRE CODE ICI\n",
        "    grad_x = np.fft.ifft2(2 * 1j * np.pi * freq_x.T * tf)\n",
        "    grad_y = np.fft.ifft2(2 * 1j * np.pi * freq_y.T * tf)\n",
        "\n",
        "    return np.real(grad_x), np.real(grad_y)\n"
      ]
    },
    {
      "cell_type": "markdown",
      "metadata": {
        "id": "xhHzE3QCcd7h"
      },
      "source": [
        "*🔴* **Question 7 :** Calculer le champ de gradient $ \\left( \\frac{\\partial w}{\\partial x}, \\frac{\\partial w}{\\partial y} \\right)$ de $w$ tel que le gradient de $w$ vaut celui de l'image `dest` là où `mask` vaut `0` et celui de l'image `source` là où `mask` vaut `1`. On s'aidera de la fonction `naive_copypaste`."
      ]
    },
    {
      "cell_type": "code",
      "execution_count": null,
      "metadata": {
        "id": "lWVO396rcd7j"
      },
      "outputs": [],
      "source": [
        "gradx_source, grady_source = gradient(source)\n",
        "gradx_dest, grady_dest = gradient(dest)\n",
        "gradx_w = naive_copypaste(gradx_source, gradx_dest, np.round(mask))\n",
        "grady_w = naive_copypaste(grady_source, grady_dest, np.round(mask))\n",
        "grad_w = (gradx_w, grady_w)\n",
        "print(np.max(gradx_dest - np.gradient(dest, axis = 0)))"
      ]
    },
    {
      "cell_type": "markdown",
      "metadata": {
        "id": "-jhFhFBgcd7l"
      },
      "source": [
        "🔴 **Question 8 :** Le champ de gradient ainsi créé contient les gradients de l'image cible ou source selon l'endroit où l'on veut faire le clonage. Quel est le rapport entre le clonage et la résolution d'une équation de Poisson ? En d'autres termes, pourquoi résoudre une équation de Poisson permet-il de résoudre le problème du clonage ?"
      ]
    },
    {
      "cell_type": "markdown",
      "metadata": {
        "id": "zYF6inufcd7m"
      },
      "source": [
        "🔥 **Réponse :** Dans cette méthode on copie les gradients plutôt que les pixels eux-même afin de copier les formes, mais d'avoir une cohérence sur les couleurs grâce à l'équation de poisson et aux conditions au bord."
      ]
    },
    {
      "cell_type": "markdown",
      "metadata": {
        "id": "x-LQl1r2cd7n"
      },
      "source": [
        "*🔴* **Question 9 :** Calculer le Laplacien de l'image clonée à partir du champ de gradient précédemment calculé. Vous pouvez vous aider de la fonction `gradient` définie précédemment."
      ]
    },
    {
      "cell_type": "code",
      "execution_count": null,
      "metadata": {
        "id": "7G9sM_bCcd7o"
      },
      "outputs": [],
      "source": [
        "def laplacien(gradx,grady) : return gradient(gradx)[0] + gradient(grady)[1]\n",
        "lap_w = laplacien(gradx_w, grady_w)"
      ]
    },
    {
      "cell_type": "markdown",
      "metadata": {
        "id": "jX148M51cd7p"
      },
      "source": [
        "*🔴* **Question 10 :** Écrire une fonction qui inverse le Laplacien d'une image donnée. On souhaite avoir une image clonée de moyenne 140."
      ]
    },
    {
      "cell_type": "code",
      "execution_count": null,
      "metadata": {
        "id": "-WUV1Ccgcd7q"
      },
      "outputs": [],
      "source": [
        "def inverse_laplacien(lap :VectorField, mean :float=140/255) -> Image:\n",
        "    \"\"\"\n",
        "    Calcule l'inverse du Laplacian donné.\n",
        "    Args:\n",
        "    - lap (np.array): Tableau numpy à deux dimensions qui contient le Laplacien.\n",
        "    - mean (float): La moyenne désirée pour l'image de sortie.\n",
        "    \"\"\"\n",
        "    H,W = lap.shape\n",
        "    tf_lap = np.fft.fft2(lap)\n",
        "    freq_x = np.fft.fftfreq(H)\n",
        "    freq_y = np.fft.fftfreq(W)\n",
        "\n",
        "    freq_x, freq_y = np.meshgrid(freq_x, freq_y)\n",
        "\n",
        "    # Inversion du Laplacien\n",
        "    denom = -(2 * np.pi)**2 * (freq_x * freq_x + freq_y * freq_y)\n",
        "    denom[0, 0] = 42\n",
        "\n",
        "    itf_lap = tf_lap / denom.T\n",
        "\n",
        "    # Corriger la moyenne\n",
        "    itf_lap[0,0] = mean * H * W\n",
        "\n",
        "    # Retour dans le domaine original\n",
        "    output = np.fft.ifft2(itf_lap).real\n",
        "\n",
        "    assert abs(output.mean() - mean) < 1e-4, \"La moyenne n'a pas été bien modifiée !\"\n",
        "\n",
        "    return np.clip(output,0,1) # compense les erreurs de calul"
      ]
    },
    {
      "cell_type": "markdown",
      "metadata": {
        "id": "V7ceTTCrcd7s"
      },
      "source": [
        "*🔴* **Question 11 :** Appliquer la fonction `inverse_laplacien` sur le Laplacien trouvé à la question 4. Visualiser l'image obtenue et commenter le résultat. En particulier, comparer avec le résultat obtenu par un simple copié-collé."
      ]
    },
    {
      "cell_type": "code",
      "execution_count": null,
      "metadata": {
        "colab": {
          "base_uri": "https://localhost:8080/",
          "height": 830
        },
        "id": "6KYawK2bcd7t",
        "outputId": "fa446701-94a1-4fc6-c01f-b8c4ee8850b4"
      },
      "outputs": [],
      "source": [
        "copie = inverse_laplacien(lap_w)\n",
        "\n",
        "plot_img(copie)\n",
        "plot_img(copie_naive)"
      ]
    },
    {
      "cell_type": "markdown",
      "metadata": {
        "id": "Ld6xSK8kcd7u"
      },
      "source": [
        "🔥 **Réponse :** Le résultat obtenu par `inverse_laplacien`est bien meilleur que celui obtenu par un simple copier/coller. On ne discerne en effet plus les bords de la partie qui a été dupliquée mais l'aigle ainsi que le reste de l'image destination sont parfaitement conservés par l'algorithme."
      ]
    },
    {
      "cell_type": "markdown",
      "metadata": {
        "id": "X4cUsQb8cd7v"
      },
      "source": [
        "## Résolution *locale*"
      ]
    },
    {
      "cell_type": "markdown",
      "metadata": {
        "id": "LR0eYv4jcd7w"
      },
      "source": [
        "L'équation de Poisson $\\Delta u = f$ peut être résolue avec des techniques de différences finies. On peut discrétiser l'espace et utiliser la discrétisation du Laplacien à cinq points introduite en cours.\n",
        "\n",
        "Lorsqu'on y rajoute des conditions de bord, on obtient un système linéaire. Le système linéaire est très simple à résoudre explicitement, ou numériquement en utilisant n'importe quel *solver* standard (en *Python*, on pourra utiliser par exemple `scipy.sparse.linalg.spsolve`). La principale difficulté est d'écrire explicitement la matrice du système à résoudre (il faut faire très attention à ne pas introduire une erreur d'indice par exemple). La seconde difficulté est qu'il est très coûteux de résoudre ce système lorsque la région à cloner est grande.\n",
        "\n",
        "L'objectif des questions suivantes est d'écrire correctement le système linéaire et de le résoudre par un *solver*. Les différentes questions vous guident progressivement."
      ]
    },
    {
      "cell_type": "markdown",
      "metadata": {
        "id": "SydeXrrIYVQy"
      },
      "source": [
        "🔴 **Question 12 :** Les *solvers* résolvent des problèmes du type $Ax=b$, où l'inconnue $x \\in \\mathbb{R}^n$, $A$ est la matrice du système, $A \\in \\mathcal{M}_{n}(\\mathbb{R})$ et $b \\in \\mathbb{R}^n$ est le second membre.\n",
        "\n",
        "La première chose pour simplifier est de travailler en 1D, c'est-à-dire que l'on va transformer les images 2D en vecteur 1D. Vectoriser les images `source`, `dest` et le masque `mask` précédents (vous pouvez utiliser la méthode `.flatten()` de numpy. Attention, vous aurez soin au préalable de conserver en mémoire la taille initiale des images 2D, afin de pouvoir retransformer les vecteurs en images (avec la méthode `.reshape()` de numpy)."
      ]
    },
    {
      "cell_type": "code",
      "execution_count": null,
      "metadata": {
        "id": "ApjqU_50cd7z"
      },
      "outputs": [],
      "source": [
        "# Conserver la taille des images\n",
        "H, W = source.shape\n",
        "\n",
        "# Vectoriser les images\n",
        "source = source.flatten()\n",
        "dest = dest.flatten()\n",
        "mask = mask.flatten()"
      ]
    },
    {
      "cell_type": "markdown",
      "metadata": {
        "id": "avKnvfDHVke3"
      },
      "source": [
        "La deuxième simplification du problème consiste à discrétiser les opérateurs différentiels comme le gradient, la divergence  et le Laplacien. Pour cela, on va considérer ces opérations linéaires sous leur forme matricielle. On vous donne le code de la fonction `gradient_discret` qui prend en argument les dimensions `H` et `W` et qui renvoie la matrice 2D de différence finie qui correspond à la discrétisation du gradient."
      ]
    },
    {
      "cell_type": "code",
      "execution_count": null,
      "metadata": {
        "id": "LVt_uzUYcd72"
      },
      "outputs": [],
      "source": [
        "def discrete_gradient(H :int, W: int) -> OperatorMatrix:\n",
        "    \"\"\"\n",
        "    Calcule la matrice associée au calcul du gradient.\n",
        "    Args:\n",
        "    - H (int): La hauteur de l'image sur laquelle on applique le gradient.\n",
        "    - W (int): La largeur de l'image sur laquelle on applique le gradient.\n",
        "    Returns:\n",
        "    - La concaténation selon l'axe des lignes de deux matrices:\n",
        "    -- Un de taille ((H - 1) * W, H * W) correspondant au gradient selon x\n",
        "    -- Un de taille (H * (W - 1), H * W) correspondant au gradient selon y\n",
        "    \"\"\"\n",
        "\n",
        "    x = sp.eye(W - 1, W, 1) - sp.eye(W - 1, W)\n",
        "    y = sp.eye(H - 1, H, 1) - sp.eye(H - 1, H)\n",
        "\n",
        "    # Calcule le gradient selon x, de taille ((H - 1) * W, H * W)\n",
        "    p = sp.kron(sp.eye(H), x)\n",
        "\n",
        "    # Calcule le gradient selon y, de taille (H * (W - 1), H * W)\n",
        "    q = sp.kron(y, sp.eye(W))\n",
        "\n",
        "    return sp.vstack([p, q])"
      ]
    },
    {
      "cell_type": "markdown",
      "metadata": {
        "id": "osUFj_AMcd75"
      },
      "source": [
        "*🔴* **Question 13 :** Notez que les matrices de discrétisation des autres opérateurs différentiels évoqués plus haut s'obtiennent à partir de celle du gradient que vous venez d'implémenter. En effet, pour rappel, la divergence est l'opposée de l'adjoint du gradient, et le Laplacien est la divergence du gradient. Écrire une fonction `divergence_discret` et une fonction `laplacien_discret` qui calcule respectivement les matrices de discrétisation de la divergence et du Laplacien. Ces fonctions prendront en arguments les dimensions `H` et `W` et seront basées sur la fonction `gradient_discret` précédente."
      ]
    },
    {
      "cell_type": "code",
      "execution_count": null,
      "metadata": {
        "id": "Yjb7n4Vycd77"
      },
      "outputs": [],
      "source": [
        "def divergence_discret(H : int, W: int)->OperatorMatrix:\n",
        "    \"\"\"\n",
        "    Calcule la matrice associée au calcul de la divergence.\n",
        "    Args:\n",
        "    - H (int): La hauteur de l'image sur laquelle on applique la divergence.\n",
        "    - W (int): La largeur de l'image sur laquelle on applique la divergence.\n",
        "    \"\"\"\n",
        "    return -discrete_gradient(H,W).H\n",
        "\n",
        "def laplacien_discret(H : int, W :int)-> OperatorMatrix:\n",
        "    \"\"\"\n",
        "    Calcule la matrice associée au calcul du Laplacien.\n",
        "    Args:\n",
        "    - H (int): La hauteur de l'image sur laquelle on applique le Laplacien.\n",
        "    - W (int): La largeur de l'image sur laquelle on applique le Laplacien.\n",
        "    \"\"\"\n",
        "    grad = discrete_gradient(H,W)\n",
        "    return - grad.H @ grad #ne pas avoir à calucler deux fois la fonction le gradient permet de gagner du temps  "
      ]
    },
    {
      "cell_type": "markdown",
      "metadata": {
        "id": "mWMU1h5DYVQ6"
      },
      "source": [
        "*🔴* **Question 14 :** Soit $v$ l'image à copier-coller sur l'image cible $g$ et $\\Omega$ le domaine à cloner (de l'image source vers l'image cible). Le problème que l'on cherche à résoudre s'écrit dans le domaine continu (c'est l'équation (5.1) du poly):\n",
        "\n",
        "\\begin{cases}\n",
        "\\Delta u = \\Delta v & \\mathrm{in}\\ \\Omega \\\\\n",
        "      u=g & \\mathrm{in}\\ \\Omega^c\n",
        "\\end{cases}\n",
        "\n",
        "Écrire en $\\LaTeX$ l'équation ci-dessus dans le domaine discret. Pour modéliser $\\Omega$ ou $\\Omega^c$, vous utiliserez la matrice $M$ qui est la matrice diagonale du masque vectorisé et la matrice $L$ du Laplacien discret."
      ]
    },
    {
      "cell_type": "markdown",
      "metadata": {
        "id": "ThL5aqc8cd8D"
      },
      "source": [
        "🔥 **Réponse :** *Écrivez votre réponse ici :*\n",
        "\\begin{cases}\n",
        "  MLu = MLv \\\\\n",
        "  (I-M)u = (I-M)g\n",
        "\\end{cases}"
      ]
    },
    {
      "cell_type": "markdown",
      "metadata": {
        "id": "yxnJ2-59cd8E"
      },
      "source": [
        "🔴 **Question 15 :** Maintenant que vous l'avez écrit en langage mathématique, l'objectif de cette question est d'écrire exactement la même chose en utilisant les matrices et tableaux précédents `Lw`, `v`, *etc.* Écrire la matrice $A$ et le second membre $b$ du système. Vous aurez besoin d'une matrice de masque, diagonale et de la matrice identité.\n",
        "\n",
        "**Astuces :** La fonction `diags` de `scipy.sparse` prend en argument un vecteur `x` et renvoie la matrice diagonale dont les coefficients $x_i$ sur la diagonale. La fonction `eye(n,n)` de `scipy.sparse` renvoie la matrice $I_n$.\n",
        "\n",
        "**Attention :** N'oubliez pas que les images de taille $(H, W)$ ont été vectorisées ! Ce qui signifie que le système est de taille $(H \\times W)^2$"
      ]
    },
    {
      "cell_type": "code",
      "execution_count": null,
      "metadata": {
        "id": "76oHo1k2YVQ8"
      },
      "outputs": [],
      "source": [
        "L = laplacien_discret(H, W)[:H*W, :H*W]     # Laplacien discret\n",
        "M = sp.diags(mask.flatten())    # Opérateur associé au masque\n",
        "I = sp.eye(H * W, H * W)        # Opérateur associé à l'identité\n",
        "M  = np.round(M)\n",
        "\n",
        "A = (I - M) @ I - M @ L\n",
        "b = (I - M) @ dest- M @ L @ source\n"
      ]
    },
    {
      "cell_type": "markdown",
      "metadata": {
        "id": "BNDjX6_vcd8I"
      },
      "source": [
        "🔴 **Question 16 :** Résoudre le système $Ax = b$.\n",
        "\n",
        "**Astuce :** La fonction `spsolve` de la librairie `scipy.sparse.linalg` appliquée à un array numpy $A$ de taille $n \\times n$ et à un array numpy $b$ de taille $n$ renvoie un array numpy $x$ solution de $Ax = b$."
      ]
    },
    {
      "cell_type": "code",
      "execution_count": null,
      "metadata": {
        "id": "RjCCUU7dcd8K"
      },
      "outputs": [],
      "source": [
        "from scipy.sparse.linalg import spsolve\n",
        "solution = spsolve(A,b) \n"
      ]
    },
    {
      "cell_type": "markdown",
      "metadata": {
        "id": "9vz9MzKwcd8L"
      },
      "source": [
        "🔴 **Question 17 :** Vous avez presque fini ! Il ne reste plus qu'à remettre en forme le vecteur $x$ de taille $(H \\times W,)$ en un tableau 2D de taille $(H, W)$ en utilisant la méthode `.reshape()`. Former l'image clonée et la visualiser. Commenter le résultat obtenu."
      ]
    },
    {
      "cell_type": "code",
      "execution_count": null,
      "metadata": {
        "id": "bqe1CpNPcd8L"
      },
      "outputs": [],
      "source": [
        "final_image = np.clip(solution.reshape(H,W),0,1)\n",
        "\n",
        "plot_img(np.clip(final_image,0,1)) #compense les erreurs de calculs\n",
        "plot_img(copie)\n",
        "..."
      ]
    },
    {
      "cell_type": "markdown",
      "metadata": {
        "id": "l4hroerhDGQ-"
      },
      "source": [
        "🔥 **Commentaire :** Le résultat ainsi obtenu est tout à fait satisfaisant, on n'aperçoit pas les bordures du masque et le rapace ainsi que le fond sont conservés. De plus, il semblerait que cette version conserve un contraste légèrement meilleur que celle appliquée en partie 1."
      ]
    },
    {
      "cell_type": "markdown",
      "metadata": {
        "id": "dVaPw5TQlNlB"
      },
      "source": [
        "## Bonus"
      ]
    },
    {
      "cell_type": "code",
      "execution_count": null,
      "metadata": {},
      "outputs": [],
      "source": [
        "#On commence par restructuer les images \"applaties\" en partie 2\n",
        "source = source.reshape(H,W)\n",
        "dest = dest.reshape(H,W)\n",
        "mask = mask.reshape(H,W)"
      ]
    },
    {
      "cell_type": "markdown",
      "metadata": {
        "id": "gJ7603D9lRqk"
      },
      "source": [
        "🔴 **Question B1 :** Dans ce TP, vous avez résolu le problème de trouver $u$ vérifiant :\n",
        "\\begin{cases}\n",
        "\\Delta u = f & \\mathrm{in}\\ \\Omega \\\\\n",
        "      u=g & \\mathrm{in}\\ \\Omega^c,\n",
        "\\end{cases}\n",
        "où $f$ est le gradient cible. Ceci correspond à remplacer le gradient de l'image source brusquement par le gradient de l'image cible, et est appelé \"remplacement\" dans l'article [Poisson Image Editing](http://www.ipol.im/pub/art/2016/163/). Néanmoins, dans cet article, dans la section 4, les auteurs considèrent plusieurs options pour le gradient cible :\n",
        "-  une **moyenne** des gradients des images source et cible\n",
        "-  le **maximum** (pixel à pixel) des gradients des images source et cible\n",
        "\n",
        "Reprenez le code écrit dans la partie \"Résolution *globale*\". Modifiez-le pour implémenter ces deux options (vous n'avez qu'à faire un copié-collé des cellules des la partie \"Résolution *globale* et modifier une ou deux lignes). Tester ces deux options. Qu'en pensez-vous ?  Si vous êtes curieux et avez du temps, vous pouvez aussi tester la somme des gradients des images source et cible."
      ]
    },
    {
      "cell_type": "code",
      "execution_count": null,
      "metadata": {
        "id": "feZUMplgmWjO"
      },
      "outputs": [],
      "source": [
        "###    Copier-coller le contenu des cellules de la partie Résolution globale ici.   ###\n",
        "\n",
        "###    Modifier les lignes qui définissent le gradient cible pour implémenter la moyenne  ###\n",
        "Wx = (gradx_source + gradx_dest) / 2\n",
        "Wy = (grady_source + grady_dest) / 2\n",
        "\n",
        "gradx_W = naive_copypaste(Wx, gradx_dest, mask)\n",
        "grady_W = naive_copypaste(Wy, grady_dest, mask)\n",
        "\n",
        "lap_W = laplacien(gradx_W, grady_W)\n",
        "\n",
        "moyenne = inverse_laplacien(lap_W)\n",
        "\n",
        "plot_img(moyenne)"
      ]
    },
    {
      "cell_type": "code",
      "execution_count": null,
      "metadata": {
        "id": "T8XFMUW1oCQX"
      },
      "outputs": [],
      "source": [
        "###    Copier-coller le contenu des cellules de la partie Résolution globale ici.     ###\n",
        "\n",
        "###    Modifier les lignes qui définissent le gradient cible pour implémenter le max  ###\n",
        "Wx = gradx_source * np.abs(gradx_source > gradx_dest) + gradx_dest * (np.abs(gradx_source) <= gradx_dest)\n",
        "Wy = grady_source * np.abs(grady_source > grady_dest) + grady_dest * np.abs(grady_source <= grady_dest)\n",
        "\n",
        "gradx_W = naive_copypaste(Wx, gradx_dest, mask)\n",
        "grady_W = naive_copypaste(Wy, grady_dest, mask)\n",
        "\n",
        "lap_W = laplacien(gradx_W, grady_W)\n",
        "\n",
        "maximum = inverse_laplacien(lap_W)\n",
        "\n",
        "plot_img(maximum)"
      ]
    },
    {
      "cell_type": "code",
      "execution_count": null,
      "metadata": {},
      "outputs": [],
      "source": [
        "Wx = (gradx_source + gradx_dest)\n",
        "Wy = (grady_source + grady_dest)\n",
        "\n",
        "gradx_W = naive_copypaste(Wx, gradx_dest, mask)\n",
        "grady_W = naive_copypaste(Wy, grady_dest, mask)\n",
        "\n",
        "lap_W = laplacien(gradx_W, grady_W)\n",
        "\n",
        "somme = inverse_laplacien(lap_W)\n",
        "\n",
        "plot_img(np.clip(somme,0,1))"
      ]
    },
    {
      "cell_type": "code",
      "execution_count": null,
      "metadata": {},
      "outputs": [],
      "source": [
        "plot_img(copie)\n",
        "plot_img(moyenne)\n",
        "plot_img(maximum)\n",
        "plot_img(somme)\n",
        "plot_img(final_image)"
      ]
    },
    {
      "cell_type": "markdown",
      "metadata": {
        "id": "dwafKqBIFEqR"
      },
      "source": [
        "🔥 **Commentaire :** Les deux premières méthodes proposées sont peu satisafaisantes (en tous cas sur l'exemple). En effet, la moyenne pâlit considérable l'oiseau qui apparait binen moins vivement que dans la méthode de base. Quant à la méthode du max elle apparaître d'importantes aberrrations en plus de rendre l'oiseau moins net.\n",
        "La somme enfin présente un intérêt car elle présente une version qui semble légèrement plus contrastée que la version initale (peut-être même légèrement plus que la version locale)."
      ]
    },
    {
      "cell_type": "markdown",
      "metadata": {
        "id": "VkCNDR-BoT_G"
      },
      "source": [
        "🔴 **Question B2 :** Vous disposez d'une image avec des régions très sombre que vous souhiatez éclaircir. Comment pouvez-vous utiliser l'édition de Poisson pour y parvenir ?\n",
        "\n",
        "**Indice :** Lire la partie 4 de l'article [Poisson Image Editing](http://www.ipol.im/pub/art/2016/163/), paragraphe \"Contrast enhancement\". Essayez de comprendre la partie \"Contrast enhancement\" et résumez là en quelques phrases."
      ]
    },
    {
      "cell_type": "markdown",
      "metadata": {
        "id": "q1YO5HuTpFBl"
      },
      "source": [
        "🔥 **Réponse :** On utilise ici une seule image. On définit la zone à remplacer $\\Omega$ comme étant l'ensemble des points de l'image dont la luminosité est inférieure à un certain seuil fixé. On définit alors le champ gradient servant à la résolution comme $\\mathbf{v} = \\alpha \\nabla I$ sur la zone $\\Omega$ , et $\\nabla I$ en dehors, où $I$ est l'image originale et $\\alpha$ est un coefficient constant décidant à quel point on éclaircit."
      ]
    },
    {
      "cell_type": "markdown",
      "metadata": {
        "id": "K6bg_N0QpCK_"
      },
      "source": [
        "🔴 **Question B3 :** Si vous avez bien compris la partie \"Contrast Enhancement\", vous voyez qu'elle est très simple à implémenter. Comme à la question Bonus-1, il suffit de reprendre le code de la partie Résolution globale par exemple et de modifier très simplement une ou deux ligne. Vous pouvez essayer cette méthode si vous le souhaitez. L'image blablabla.png contient une zone sombre située dans la partie [x:x+??, y:y+??]."
      ]
    },
    {
      "cell_type": "code",
      "execution_count": null,
      "metadata": {},
      "outputs": [],
      "source": [
        "def simplest_color_balance(img : Image, s1 : float, s2 :float) -> Image:\n",
        "    sorted_values = [x for ligne in img for x in ligne]\n",
        "    sorted_values.sort()\n",
        "\n",
        "    N = len(sorted_values)\n",
        "    i1, i2 = round(N * s1), round(N * (1 - s2) - 1)\n",
        "    vmin = sorted_values[i1]\n",
        "    vmax = sorted_values[i2]\n",
        "\n",
        "    saturated_img = np.copy(img)\n",
        "    n,m = saturated_img.shape\n",
        "    saturated_img = np.vectorize(lambda x : min(vmax,max(vmin,x)))(saturated_img)\n",
        "\n",
        "    if vmin < vmax :\n",
        "      return (saturated_img - vmin) / (vmax - vmin)\n",
        "    else : \n",
        "      return saturated_img - vmin\n",
        "\n",
        "def colorize(grey_scale_function : \"callable[[Image],...]\") -> \"callable[[Image], ...]\":\n",
        "    \"\"\"\n",
        "    Transforme une fonction prenant en entrée une image en échelle de gris, en une autre prenant en entrée une image en couleur et appliquant la fonction\n",
        "    en échelle de gris sur chaque composante de l'image RBG\n",
        "    \"\"\"\n",
        "    def fun(img : Image) :\n",
        "        split_RGB = (img[:,:,i] for i in range(3))\n",
        "        processed_split_RGB = tuple(map(grey_scale_function, split_RGB))\n",
        "        return np.dstack(processed_split_RGB)\n",
        "    return fun\n",
        "\n",
        "simplest_color_balance_RGB = colorize(lambda x : simplest_color_balance(x,.01,.01))"
      ]
    },
    {
      "cell_type": "code",
      "execution_count": null,
      "metadata": {
        "id": "ReArsxj_pqdO"
      },
      "outputs": [],
      "source": [
        "#u = load_img(\"https://gfacciol.github.io/afh/TP_M1_Images/TP2/dark_cat.png\")\n",
        "u = load_img(\"dark_cat.png\")\n",
        "\n",
        "mask = np.zeros(u.shape)\n",
        "mask[:,:] = 1\n",
        "I = (u[:,:,0] + u[:,:,1] + u[:,:,2])/3\n",
        "alpha = 5 # facteur multiplicatif pour l'éclaircissement.\n",
        "gradx_I, grady_I = gradient(I)\n",
        "IWx = gradx_I * alpha\n",
        "IWy = grady_I * alpha\n",
        "\n",
        "lap_I = laplacien(IWx, IWy)\n",
        "\n",
        "eclair = inverse_laplacien(lap_I)\n",
        "v= u.copy()\n",
        "for i in range(u.shape[0]):\n",
        "    for j in range(u.shape[1]):\n",
        "        v[i,j] *= eclair[i,j]\n",
        "\n",
        "plot_img(np.clip(u,0,1))\n",
        "plot_img(np.clip(v,0,1))\n",
        "\n",
        "\n",
        "plot_img(simplest_color_balance_RGB(u))\n",
        "plot_img(np.clip(simplest_color_balance_RGB(v),0,1))"
      ]
    },
    {
      "cell_type": "markdown",
      "metadata": {
        "id": "UzSgqBcwqPdp"
      },
      "source": [
        "🔴 **Question B4 :** Comment feriez-vous pour appliquer l'édition de Poisson pour une image en couleur ?"
      ]
    },
    {
      "cell_type": "markdown",
      "metadata": {
        "id": "A21Ov3kVqaom"
      },
      "source": [
        "🔥 **Commentaire :** On applique Poisson sur l'image grisée, puis on rétablit les couleurs (comme ci-dessus par exemple)."
      ]
    }
  ],
  "metadata": {
    "colab": {
      "machine_shape": "hm",
      "provenance": []
    },
    "kernelspec": {
      "display_name": "Python 3 (ipykernel)",
      "language": "python",
      "name": "python3"
    },
    "language_info": {
      "codemirror_mode": {
        "name": "ipython",
        "version": 3
      },
      "file_extension": ".py",
      "mimetype": "text/x-python",
      "name": "python",
      "nbconvert_exporter": "python",
      "pygments_lexer": "ipython3",
      "version": "3.11.3"
    }
  },
  "nbformat": 4,
  "nbformat_minor": 0
}
